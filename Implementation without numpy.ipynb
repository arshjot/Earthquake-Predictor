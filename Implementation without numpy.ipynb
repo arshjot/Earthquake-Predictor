{
 "cells": [
  {
   "cell_type": "markdown",
   "metadata": {},
   "source": [
    "# Implementation using only numpy"
   ]
  },
  {
   "cell_type": "markdown",
   "metadata": {},
   "source": [
    "#### Notes"
   ]
  },
  {
   "cell_type": "markdown",
   "metadata": {},
   "source": [
    "1. Changed the date and time in three rows manually to make the format consistent\n",
    "2. matplotlib was used for EDA"
   ]
  },
  {
   "cell_type": "markdown",
   "metadata": {},
   "source": [
    "## Loading numpy and raw data"
   ]
  },
  {
   "cell_type": "code",
   "execution_count": 1,
   "metadata": {
    "collapsed": false
   },
   "outputs": [],
   "source": [
    "import numpy as np"
   ]
  },
  {
   "cell_type": "code",
   "execution_count": 2,
   "metadata": {
    "collapsed": false
   },
   "outputs": [],
   "source": [
    "raw_data=np.genfromtxt('./Raw Data/database.csv',delimiter=',',dtype=None,names=True)"
   ]
  },
  {
   "cell_type": "code",
   "execution_count": 3,
   "metadata": {
    "collapsed": false
   },
   "outputs": [
    {
     "name": "stderr",
     "output_type": "stream",
     "text": [
      "/home/arsh/anaconda3/lib/python3.5/site-packages/ipykernel/__main__.py:6: DeprecationWarning: parsing timezone aware datetimes is deprecated; this will raise an error in the future\n"
     ]
    }
   ],
   "source": [
    "#Extracting date and time\n",
    "date=np.array([(bytes.decode(x)).split('/') for x in raw_data['Date']])\n",
    "date=np.array([((x[-1])+'-'+x[0]+'-'+x[-2:][0]) for x in date],dtype='U10')\n",
    "time=np.array([(bytes.decode(x)) for x in raw_data['Time']],dtype='U8')\n",
    "dateTime = np.array([(date[i]+'T'+time[i]+'Z') for i in range(len(date))],dtype='U20')\n",
    "dateTime=dateTime.astype('datetime64[s]')\n",
    "\n",
    "#Keeping only relevant columns\n",
    "req_data=raw_data[['Latitude','Longitude','Magnitude']]"
   ]
  },
  {
   "cell_type": "markdown",
   "metadata": {},
   "source": [
    "## Exploratory Data Analysis"
   ]
  },
  {
   "cell_type": "code",
   "execution_count": 4,
   "metadata": {
    "collapsed": false
   },
   "outputs": [],
   "source": [
    "import matplotlib.pyplot as plt"
   ]
  },
  {
   "cell_type": "markdown",
   "metadata": {},
   "source": [
    "### Year-wise Distribution"
   ]
  },
  {
   "cell_type": "code",
   "execution_count": 5,
   "metadata": {
    "collapsed": false
   },
   "outputs": [
    {
     "data": {
      "image/png": "[encoded data removed]",
      "text/plain": [
       "<matplotlib.figure.Figure at 0x7f97f1458320>"
      ]
     },
     "metadata": {},
     "output_type": "display_data"
    }
   ],
   "source": [
    "year = dateTime.astype('datetime64[Y]').astype(int) + 1970\n",
    "year=np.unique(year,return_counts=True)\n",
    "\n",
    "plt.bar(year[0],year[1],color='khaki')\n",
    "plt.show()"
   ]
  },
  {
   "cell_type": "markdown",
   "metadata": {},
   "source": [
    "### Month-wise Distribution"
   ]
  },
  {
   "cell_type": "code",
   "execution_count": 6,
   "metadata": {
    "collapsed": false
   },
   "outputs": [
    {
     "data": {
      "image/png": "[encoded data removed]",
      "text/plain": [
       "<matplotlib.figure.Figure at 0x7f97ed7af278>"
      ]
     },
     "metadata": {},
     "output_type": "display_data"
    }
   ],
   "source": [
    "month = dateTime.astype('datetime64[M]').astype(int) % 12 + 1\n",
    "month=np.unique(month,return_counts=True)\n",
    "\n",
    "plt.bar(month[0],month[1],color='mediumturquoise')\n",
    "plt.show()"
   ]
  },
  {
   "cell_type": "markdown",
   "metadata": {},
   "source": [
    "### Earthquake Prone Areas "
   ]
  },
  {
   "cell_type": "code",
   "execution_count": 44,
   "metadata": {
    "collapsed": false
   },
   "outputs": [],
   "source": [
    "import plotly\n",
    "from plotly.plotly import iplot"
   ]
  },
  {
   "cell_type": "code",
   "execution_count": null,
   "metadata": {
    "collapsed": false
   },
   "outputs": [],
   "source": [
    "data = [ dict(\n",
    "        type = 'scattergeo',\n",
    "        locationmode = 'USA-states',\n",
    "        lon = req_data['Longitude'],\n",
    "        lat = req_data['Latitude'],\n",
    "        text = ['Magnitude = '+str(s) for s in list(req_data['Magnitude'])],\n",
    "        mode = 'markers',\n",
    "        marker = dict( \n",
    "            size = 7, \n",
    "            opacity = 0.8,\n",
    "            autocolorscale = True,\n",
    "            symbol = 'circle',\n",
    "            line = dict(\n",
    "                width=0.5,\n",
    "                color='rgba(102, 102, 102)'\n",
    "            ),\n",
    "            cmin = 5.5,\n",
    "            color = req_data['Magnitude'],\n",
    "            cmax = req_data['Magnitude'].max(),\n",
    "            colorbar=dict(\n",
    "                title=\"Magnitude\"\n",
    "            )\n",
    "        ))]\n",
    "\n",
    "layout = dict(\n",
    "        title = 'Earthquake Prone Areas',\n",
    "        colorbar=True,\n",
    "        geo = dict(\n",
    "            scope='usa',\n",
    "            projection=dict( type='albers usa' ),\n",
    "            showland = True,\n",
    "            landcolor = \"rgb(250, 250, 250)\",\n",
    "            subunitcolor = \"rgb(217, 217, 217)\",\n",
    "            countrycolor = \"rgb(217, 217, 217)\",\n",
    "            countrywidth = 0.5,\n",
    "            subunitwidth = 0.5        \n",
    "        ),\n",
    "    )\n",
    "\n",
    "fig = dict( data=data, layout=layout )\n",
    "iplot(fig,validate=False,filename='USA-earthquakes')"
   ]
  }
 ],
 "metadata": {
  "anaconda-cloud": {},
  "kernelspec": {
   "display_name": "Python [conda root]",
   "language": "python",
   "name": "conda-root-py"
  },
  "language_info": {
   "codemirror_mode": {
    "name": "ipython",
    "version": 3
   },
   "file_extension": ".py",
   "mimetype": "text/x-python",
   "name": "python",
   "nbconvert_exporter": "python",
   "pygments_lexer": "ipython3",
   "version": "3.5.2"
  }
 },
 "nbformat": 4,
 "nbformat_minor": 1
}
